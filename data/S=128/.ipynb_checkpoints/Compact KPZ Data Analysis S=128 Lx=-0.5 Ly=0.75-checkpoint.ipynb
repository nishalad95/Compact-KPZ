{
 "cells": [
  {
   "cell_type": "markdown",
   "metadata": {},
   "source": [
    "# Compact KPZ Data Analysis S=128 Lx=-0.5 Ly=0.75"
   ]
  },
  {
   "cell_type": "markdown",
   "metadata": {},
   "source": [
    "#### Nisha Lad"
   ]
  },
  {
   "cell_type": "markdown",
   "metadata": {},
   "source": [
    "Calibration of KPZ - set $\\lambda_x = -0.5, \\lambda_y = 0.75$, Lattice size S = 128"
   ]
  },
  {
   "cell_type": "code",
   "execution_count": null,
   "metadata": {
    "collapsed": true
   },
   "outputs": [],
   "source": [
    "import numpy as np\n",
    "import matplotlib.pyplot as plt\n",
    "%matplotlib inline"
   ]
  },
  {
   "cell_type": "code",
   "execution_count": null,
   "metadata": {
    "collapsed": false
   },
   "outputs": [],
   "source": [
    "I = 26\n",
    "avgEnergy = [0] * I\n",
    "avgNumVortices = [0] * I\n",
    "avgEnergySquared = [0] * I\n",
    "# 'temperature', pump power\n",
    "CL = [0.0, 0.5, 1.0, 1.5, 2.0, 2.5, 3.0, 3.1, 3.15, 3.2, 3.25, 3.3, 3.35, 3.4, 3.45, 3.5, 3.55, 3.6, 3.65, 4.0, 4.5, 5.0, 5.5, 6.0, 6.5, 7.0]\n",
    "np.savetxt(\"CL_S=128_Lx=-0.5_Ly=0.75.txt\", CL, delimiter=' ')\n",
    "print(CL)"
   ]
  },
  {
   "cell_type": "code",
   "execution_count": null,
   "metadata": {
    "collapsed": true
   },
   "outputs": [],
   "source": [
    "def PlotGraphs(r, cl, N, cl_index, noise=True):\n",
    "    R = r\n",
    "    fig = plt.figure(figsize=(6, 5))\n",
    "    if noise:\n",
    "        stocAvg = 0.0\n",
    "        stocAvg2 = 0.0\n",
    "        stocVortex = 0.0\n",
    "    for i in range(1,R+1):\n",
    "        energy = np.loadtxt(\"Lx=-0.5,Ly=0.75/CL_\" + str(cl) + \"/Energy_CL\" + str(cl) + \"_N\" + str(N) + \"_R\" + str(i) + \".txt\", dtype=float)\n",
    "        iteration = np.arange(0, len(energy), 1)\n",
    "        plt.plot(iteration, energy)\n",
    "        if noise:\n",
    "            stocAvg += energy[-1]\n",
    "            stocAvg2 += energy[-1]**2\n",
    "    if noise:\n",
    "        stocAvg2 /= R\n",
    "        stocAvg /= R\n",
    "    plt.title(\"Energy as a function of time for a 128X128 matrix, \\n over \" + str(R) + \"\\\n",
    "    realizations, $C_l =\" + str(cl) + \"$, $N =\" + str(N) + \"$, $\\lambda_x = -0.5, \\lambda_y = 0.75$\")\n",
    "    plt.xlabel(\"time [T]\")\n",
    "    plt.ylabel(\"E\")\n",
    "    fig.savefig(\"Lx=-0.5,Ly=75/Graphs/energyTimeCl=\" + str(cl) + \".png\", dpi=100)\n",
    "    plt.show()\n",
    "\n",
    "    fig = plt.figure(figsize=(6, 5))\n",
    "    plt.xlabel(\"time [T]\")\n",
    "    plt.ylabel(\"Number of vortices\")\n",
    "    plt.title(\"Number of vortices as a function of time for a 128X128 matrix, \\n over \" + str(R) + \"\\\n",
    "    realizations, $C_l = \" + str(cl) + \"$, $N =\" + str(N) + \"$, $\\lambda_x = -0.5, \\lambda_y = 0.75$\")\n",
    "\n",
    "    for i in range(1,R+1):\n",
    "        vortexNum = np.loadtxt(\"Lx=-0.5,Ly=0.75/CL_\" + str(cl) + \"/VortexNum_CL\" + str(cl) + \"_N\" + str(N) + \"_R\" + str(i) + \".txt\", dtype=float)\n",
    "        plt.plot(iteration, vortexNum)\n",
    "        if noise:\n",
    "            stocVortex += vortexNum[-1]\n",
    "    fig.savefig(\"Lx=-0.5,Ly=75/Graphs/vorticesTimeCl=\" + str(cl) + \".png\", dpi=100)\n",
    "    if noise:\n",
    "        stocVortex /= R\n",
    "        avgEnergy[cl_index] = stocAvg\n",
    "        avgNumVortices[cl_index] = stocVortex\n",
    "        avgEnergySquared[cl_index] = stocAvg2\n",
    "    elif cl_index == 0:\n",
    "        avgEnergy[0] = energy[-1]\n",
    "        avgNumVortices[0] = vortexNum[-1]\n",
    "        avgEnergySquared[0] = energy[-1]**2"
   ]
  },
  {
   "cell_type": "code",
   "execution_count": null,
   "metadata": {
    "collapsed": false
   },
   "outputs": [],
   "source": [
    "PlotGraphs(1, 0, 400, 0, False)"
   ]
  },
  {
   "cell_type": "code",
   "execution_count": null,
   "metadata": {
    "collapsed": false
   },
   "outputs": [],
   "source": [
    "PlotGraphs(10, 0.5, 400, 1)"
   ]
  },
  {
   "cell_type": "code",
   "execution_count": null,
   "metadata": {
    "collapsed": false
   },
   "outputs": [],
   "source": [
    "PlotGraphs(10, 1, 500, 2)"
   ]
  },
  {
   "cell_type": "code",
   "execution_count": null,
   "metadata": {
    "collapsed": false
   },
   "outputs": [],
   "source": [
    "PlotGraphs(20, 1.5, 600, 3)"
   ]
  },
  {
   "cell_type": "code",
   "execution_count": null,
   "metadata": {
    "collapsed": false
   },
   "outputs": [],
   "source": [
    "PlotGraphs(30, 2, 700, 4)"
   ]
  },
  {
   "cell_type": "code",
   "execution_count": null,
   "metadata": {
    "collapsed": false
   },
   "outputs": [],
   "source": [
    "PlotGraphs(40, 2.5, 800, 5)"
   ]
  },
  {
   "cell_type": "code",
   "execution_count": null,
   "metadata": {
    "collapsed": false
   },
   "outputs": [],
   "source": [
    "PlotGraphs(50, 3, 800, 6)"
   ]
  },
  {
   "cell_type": "code",
   "execution_count": null,
   "metadata": {
    "collapsed": true
   },
   "outputs": [],
   "source": [
    "PlotGraphs(50, 3.1, 800, 7)"
   ]
  },
  {
   "cell_type": "code",
   "execution_count": null,
   "metadata": {
    "collapsed": true
   },
   "outputs": [],
   "source": [
    "PlotGraphs(50, 3.15, 800, 8)"
   ]
  },
  {
   "cell_type": "code",
   "execution_count": null,
   "metadata": {
    "collapsed": true
   },
   "outputs": [],
   "source": [
    "PlotGraphs(50, 3.2, 800, 9)"
   ]
  },
  {
   "cell_type": "code",
   "execution_count": null,
   "metadata": {
    "collapsed": true
   },
   "outputs": [],
   "source": [
    "PlotGraphs(50, 3.25, 800, 10)"
   ]
  },
  {
   "cell_type": "code",
   "execution_count": null,
   "metadata": {
    "collapsed": true
   },
   "outputs": [],
   "source": [
    "PlotGraphs(50, 3.3, 800, 11)"
   ]
  },
  {
   "cell_type": "code",
   "execution_count": null,
   "metadata": {
    "collapsed": true
   },
   "outputs": [],
   "source": [
    "PlotGraphs(50, 3.35, 800, 12)"
   ]
  },
  {
   "cell_type": "code",
   "execution_count": null,
   "metadata": {
    "collapsed": true
   },
   "outputs": [],
   "source": [
    "PlotGraphs(50, 3.4, 800, 13)"
   ]
  },
  {
   "cell_type": "code",
   "execution_count": null,
   "metadata": {
    "collapsed": true
   },
   "outputs": [],
   "source": [
    "PlotGraphs(50, 3.45, 800, 14)"
   ]
  },
  {
   "cell_type": "code",
   "execution_count": null,
   "metadata": {
    "collapsed": false
   },
   "outputs": [],
   "source": [
    "PlotGraphs(50, 3.5, 800, 15)"
   ]
  },
  {
   "cell_type": "code",
   "execution_count": null,
   "metadata": {
    "collapsed": true
   },
   "outputs": [],
   "source": [
    "PlotGraphs(50, 3.55, 800, 16)"
   ]
  },
  {
   "cell_type": "code",
   "execution_count": null,
   "metadata": {
    "collapsed": true
   },
   "outputs": [],
   "source": [
    "PlotGraphs(50, 3.6, 800, 17)"
   ]
  },
  {
   "cell_type": "code",
   "execution_count": null,
   "metadata": {
    "collapsed": true
   },
   "outputs": [],
   "source": [
    "PlotGraphs(50, 3.65, 800, 18)"
   ]
  },
  {
   "cell_type": "code",
   "execution_count": null,
   "metadata": {
    "collapsed": false
   },
   "outputs": [],
   "source": [
    "PlotGraphs(60, 4, 500, 19)"
   ]
  },
  {
   "cell_type": "code",
   "execution_count": null,
   "metadata": {
    "collapsed": false
   },
   "outputs": [],
   "source": [
    "PlotGraphs(80, 4.5, 200, 20)"
   ]
  },
  {
   "cell_type": "code",
   "execution_count": null,
   "metadata": {
    "collapsed": false
   },
   "outputs": [],
   "source": [
    "PlotGraphs(80, 5, 100, 21)"
   ]
  },
  {
   "cell_type": "code",
   "execution_count": null,
   "metadata": {
    "collapsed": false
   },
   "outputs": [],
   "source": [
    "PlotGraphs(100, 5.5, 80, 22)"
   ]
  },
  {
   "cell_type": "code",
   "execution_count": null,
   "metadata": {
    "collapsed": false
   },
   "outputs": [],
   "source": [
    "PlotGraphs(100, 6, 80, 23)"
   ]
  },
  {
   "cell_type": "code",
   "execution_count": null,
   "metadata": {
    "collapsed": false
   },
   "outputs": [],
   "source": [
    "PlotGraphs(100, 6.5, 40, 24)"
   ]
  },
  {
   "cell_type": "code",
   "execution_count": null,
   "metadata": {
    "collapsed": false
   },
   "outputs": [],
   "source": [
    "PlotGraphs(100, 7, 20, 25)"
   ]
  },
  {
   "cell_type": "code",
   "execution_count": null,
   "metadata": {
    "collapsed": false
   },
   "outputs": [],
   "source": [
    "fig, ax = plt.subplots()\n",
    "major_ticks = np.arange(0, 7.2, 0.5)\n",
    "minor_ticks = np.arange(0, 7.0, 0.1)\n",
    "ax.set_xticks(major_ticks, minor = False)\n",
    "ax.set_xticks(minor_ticks, minor = True)\n",
    "ax.plot(CL, avgEnergy, 'b.')\n",
    "plt.title(\"Average Energy Density as a function of Noise \\n for a 128x128 matrix $\\lambda_x = -0.5, \\lambda_y = 0.75$\")\n",
    "plt.xlabel(\"$C_l$\")\n",
    "plt.ylabel(\"$<E>/S^2$\")\n",
    "np.savetxt(\"energyDensityVsCL_S=128_Lx=-0.5_Ly=0.75.txt\", avgEnergy, delimiter=' ')\n",
    "fig.savefig(\"Lx=-0.5,Ly=0.75/Graphs/energyDensityCl.png\", dpi=100)"
   ]
  },
  {
   "cell_type": "code",
   "execution_count": null,
   "metadata": {
    "collapsed": false
   },
   "outputs": [],
   "source": [
    "# specific heat - discrete derivative\n",
    "# dE/dT vs T = dE/dC_l vs C_l\n",
    "dE = [0] * I\n",
    "for i in range(0,I-1):\n",
    "    dE[i] = (avgEnergy[i+1] - avgEnergy[i])/(CL[i+1] - CL[i])\n",
    "\n",
    "fig, ax = plt.subplots()\n",
    "major_ticks = np.arange(0, 7.2, 0.5)\n",
    "minor_ticks = np.arange(0, 7.0, 0.1)\n",
    "ax.set_xticks(major_ticks, minor = False)\n",
    "ax.set_xticks(minor_ticks, minor = True)\n",
    "ax.plot(CL, dE, 'b.')\n",
    "plt.title(\"Specific Heat as a function of pump power \\n for a 128x128 matrix $\\lambda_x = -0.5, \\lambda_y = 0.75$\")\n",
    "plt.xlabel(\"$C_l$\")\n",
    "plt.ylabel(\"$C_V$\")\n",
    "np.savetxt(\"specificHeatVsCL_S=128_Lx=-0.5_Ly=0.75.txt\", dE, delimiter=' ')\n",
    "fig.savefig(\"Lx=-0.5,Ly=0.75/Graphs/specificHeatCl.png\", dpi=100)"
   ]
  },
  {
   "cell_type": "code",
   "execution_count": null,
   "metadata": {
    "collapsed": false
   },
   "outputs": [],
   "source": [
    "fig, ax = plt.subplots()\n",
    "major_ticks = np.arange(0, 7.2, 0.5)\n",
    "minor_ticks = np.arange(0, 7.0, 0.1)\n",
    "ax.set_xticks(major_ticks, minor = False)\n",
    "ax.set_xticks(minor_ticks, minor = True)\n",
    "ax.plot(CL, avgNumVortices, 'b.')\n",
    "plt.title(\"Average Number of Vortices plus Antivortices as a \\n\"\n",
    "          \"function of Noise for a 128x128 matrix $\\lambda_x = -0.5, \\lambda_y = 0.75$\")\n",
    "plt.xlabel(\"$C_l$\")\n",
    "plt.ylabel(\"$Vortices + Antivortices$\")\n",
    "np.savetxt(\"numOfVorticesVsCL_S=128_Lx=-0.5_Ly=0.75.txt\", avgNumVortices, delimiter=' ')\n",
    "fig.savefig(\"Lx=-0.5,Ly=0.75/Graphs/totalVorticesCl.png\", dpi=100)"
   ]
  },
  {
   "cell_type": "code",
   "execution_count": null,
   "metadata": {
    "collapsed": true
   },
   "outputs": [],
   "source": []
  }
 ],
 "metadata": {
  "anaconda-cloud": {},
  "kernelspec": {
   "display_name": "Python [default]",
   "language": "python",
   "name": "python3"
  },
  "language_info": {
   "codemirror_mode": {
    "name": "ipython",
    "version": 3
   },
   "file_extension": ".py",
   "mimetype": "text/x-python",
   "name": "python",
   "nbconvert_exporter": "python",
   "pygments_lexer": "ipython3",
   "version": "3.5.2"
  }
 },
 "nbformat": 4,
 "nbformat_minor": 1
}
